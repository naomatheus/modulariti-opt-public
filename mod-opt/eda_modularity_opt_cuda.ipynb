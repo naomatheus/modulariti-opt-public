{
  "nbformat": 4,
  "nbformat_minor": 0,
  "metadata": {
    "colab": {
      "provenance": [],
      "gpuType": "T4"
    },
    "kernelspec": {
      "name": "python3",
      "display_name": "Python 3"
    },
    "language_info": {
      "name": "python"
    },
    "accelerator": "GPU"
  },
  "cells": [
    {
      "cell_type": "markdown",
      "source": [
        "# Exploratory Data Analysis\n",
        "\n",
        "## Project Background\n",
        "\n",
        "Main reference: https://neo4j.com/developer-blog/diversify-your-stock-portfolio-with-graph-analytics/\n",
        "\n",
        "Dataset: https://www.kaggle.com/datasets/kalilurrahman/nasdaq100-stock-price-data\n",
        "\n",
        "\n",
        "This project, conducted from November to December 2024, focused on developing a community structure inference system for financial time series data. I led a team of three data scientists and leveraged graph algorithms and advanced data analysis techniques to create a powerful tool for asset portfolio evaluation. Later, I revisited the project to see where GPU-accelerated computations could help with create an ongoing community modularity optimization system for financial time series.\n",
        "\n",
        "## Objectives\n",
        "\n",
        "1. Develop a GPU-accelerated system for inferring community structures in financial time series data.\n",
        "2. Engineer novel stock performance features using a large financial dataset.\n",
        "3. Enable rolling performance evaluations of asset portfolios with \"drill down\" capability.\n",
        "4. Demonstrate the power of CUDA and GPU acceleration in financial data analysis.\n",
        "\n",
        "## In This Notebook\n",
        "In this notebook, we cover the Exploratory Data Analysis phase of the project and utilize a basic GPU acceleration with Polars integration with RAPID (Nvidia). There is some explanation in the notebook and further reading links are provided."
      ],
      "metadata": {
        "id": "kqVTwbgMdMRA"
      }
    },
    {
      "cell_type": "markdown",
      "source": [
        "**Install Pre-requisites**"
      ],
      "metadata": {
        "id": "D0sawPnadhVC"
      }
    },
    {
      "cell_type": "code",
      "source": [
        "# POLARS_GPU_ENABLE_CUDA_MANAGED_MEMORY set to 1 to avoid OOM errors in notebook\n",
        "!export POLARS_GPU_ENABLE_CUDA_MANAGED_MEMORY=0"
      ],
      "metadata": {
        "id": "HoN4P9czegI1"
      },
      "execution_count": 5,
      "outputs": []
    },
    {
      "cell_type": "code",
      "source": [
        "!pip install polars[gpu] -U --extra-index-url=https://pypi.nvidia.com"
      ],
      "metadata": {
        "id": "Y2AtKLX9dnSR"
      },
      "execution_count": null,
      "outputs": []
    },
    {
      "cell_type": "code",
      "execution_count": 6,
      "metadata": {
        "colab": {
          "base_uri": "https://localhost:8080/",
          "height": 0
        },
        "id": "p_ufUfGTc-a8",
        "outputId": "e2ba2b40-c548-4384-f1d7-edbccc706150"
      },
      "outputs": [
        {
          "output_type": "stream",
          "name": "stdout",
          "text": [
            "Drive already mounted at /content/gdrive; to attempt to forcibly remount, call drive.mount(\"/content/gdrive\", force_remount=True).\n"
          ]
        }
      ],
      "source": [
        "# if running this in Google Colab - connect google drive\n",
        "from google.colab import drive\n",
        "drive.mount('/content/gdrive')"
      ]
    },
    {
      "cell_type": "code",
      "source": [
        "import polars as pl\n",
        "import numpy as np\n",
        "from typing import List\n",
        "import matplotlib.pyplot as plt\n",
        "import seaborn as sns"
      ],
      "metadata": {
        "id": "v_KcMiH9dJ-G"
      },
      "execution_count": 7,
      "outputs": []
    },
    {
      "cell_type": "markdown",
      "source": [
        "To use a GPU, we just need to tell Polars to use the GPU engine when we call collect by passing engine=\"gpu\" as a parameter.\n",
        "\n",
        "`[polars operation returning pl.LazyFrame].collect(engine=\"gpu\")`\n",
        "\n",
        "The default configuration is likely the right choice for most workloads, but sometimes we want more control. We can provide more detailed configuration options (such as which device to run on and a variety of other options) by passing a Polars GPUEngine object to the engine parameter instead.\n",
        "\n",
        "In this notebook, we'll use pl.GPUEngine. The default configuration has transparent CPU fallback for unsupported operations, so if we execute an unsupported query we don't get an error. To prove we're running on the GPU, we'll pass a configured engine object that will raise an error if we can't run the query."
      ],
      "metadata": {
        "id": "M3HEeRkAfNc4"
      }
    },
    {
      "cell_type": "code",
      "source": [
        "# Enable GPU acceleration globally\n",
        "gpu_engine = pl.GPUEngine(\n",
        "    device=0, # This is the default\n",
        "    raise_on_fail=True, # Fail loudly if we can't run on the GPU.\n",
        ")"
      ],
      "metadata": {
        "id": "sLrqtlgWfUP_"
      },
      "execution_count": 10,
      "outputs": []
    },
    {
      "cell_type": "code",
      "source": [
        "# import libraries\n",
        "import kagglehub\n",
        "\n",
        "# set this path to run\n",
        "GDRIVE_MOUNT_POINT = \"/content/gdrive/MyDrive/Portfolio_Berkeley/nasdaq_100.zip\" #set path\n",
        "dataset_path = GDRIVE_MOUNT_POINT\n",
        "\n",
        "#!/bin/bash\n",
        "! curl -L -o  {dataset_path} \\\n",
        "https://www.kaggle.com/api/v1/datasets/download/kalilurrahman/nasdaq100-stock-price-data"
      ],
      "metadata": {
        "colab": {
          "base_uri": "https://localhost:8080/",
          "height": 0
        },
        "id": "G0FsuelogEGW",
        "outputId": "523635ea-1b6c-4183-ce3d-b895f1575820"
      },
      "execution_count": 11,
      "outputs": [
        {
          "output_type": "stream",
          "name": "stdout",
          "text": [
            "  % Total    % Received % Xferd  Average Speed   Time    Time     Time  Current\n",
            "                                 Dload  Upload   Total   Spent    Left  Speed\n",
            "  0     0    0     0    0     0      0      0 --:--:-- --:--:-- --:--:--     0\n",
            "100 6301k  100 6301k    0     0  2856k      0  0:00:02  0:00:02 --:--:-- 3514k\n"
          ]
        }
      ]
    },
    {
      "cell_type": "code",
      "source": [
        "import shutil\n",
        "# load data into local path\n",
        "DOWNLOAD_PATH = \"./nasdaq_100\"\n",
        "# unzip and extracted to specified directory\n",
        "shutil.unpack_archive(f'{dataset_path}', DOWNLOAD_PATH)  # Extract to a specified directory"
      ],
      "metadata": {
        "id": "2hj6XOQzgwIB"
      },
      "execution_count": 14,
      "outputs": []
    },
    {
      "cell_type": "markdown",
      "source": [
        "### Answering some early questions about the dataset\n",
        "\n",
        "- How many individual stocks are there and what are the names\n",
        "\n",
        "- Are there equivalent date ranges for each stock\n",
        "\n",
        "- What is the distribution of stock trading volumes across the stocks"
      ],
      "metadata": {
        "id": "SP0Mpi9bhGSQ"
      }
    },
    {
      "cell_type": "markdown",
      "source": [
        "## Why Polars with GPU Acceleration?\n",
        "\n",
        "We're leveraging Polars with GPU acceleration for this demo to significantly boost our data processing capabilities. Here's how this works:\n",
        "\n",
        "1. **Query Construction**: When using `collect(engine=\"gpu\")`, Polars first builds a Domain Specific Language (DSL) representation of the query, similar to an Abstract Syntax Tree (AST) in programming languages.\n",
        "\n",
        "2. **IR Conversion and Optimization**: The DSL is converted to an Intermediate Representation (IR). This step involves:\n",
        "   - Query validation\n",
        "   - Metadata fetching/estimation\n",
        "   - Schema determination for all operations\n",
        "   - Query optimization (reordering, simplification, removal of redundant operations)\n",
        "\n",
        "3. **CuDF Integration**: The optimized IR is passed to cuDF, which traverses the IR and attempts to replace entire subgraphs in the Directed Acyclic Graph (DAG) with Python callbacks that return DataFrames of the appropriate schema.\n",
        "\n",
        "4. **Plan Building**: Using an inspector-executor design, cuDF inspects the Polars IR and builds a GPU execution plan if possible. This plan is returned to Polars without execution, allowing for efficient fallback to CPU if needed.\n",
        "\n",
        "5. **GPU Execution**: If all operations are GPU-supported, cuDF builds its own physical plan representation. The top-most node in the Polars IR is replaced with an opaque function node that executes this GPU plan.\n",
        "\n",
        "6. **Hybrid Execution**: Polars' in-memory engine executes the plan, transitioning to GPU execution when it reaches the cuDF node.\n",
        "\n",
        "\n",
        "By using Polars with GPU acceleration we're able to demonstrate the Exploratory Data Analysis phase of the financial time series analysis and get a small snapshot of the performance improvement that can be expected here.\n",
        "\n",
        "#### Further Reading on GPU Acceleration with Polars\n",
        "\n",
        "If you are interested in diving deeper into GPU acceleration capabilities with Polars, here are some resources:\n",
        "\n",
        "1. [Official Polars GPU Engine Release](https://pola.rs/posts/gpu-engine-release/)\n",
        "   > Detailed technical overview of the new GPU acceleration features and implementation details of the NVIDIA RAPIDS integration.\n",
        "\n",
        "2. [GPU Accelerated Polars – Intuitively and Exhaustively Explained](https://towardsdatascience.com/gpu-accelerated-polars-intuitively-and-exhaustively-explained-e823a82f92a8/)\n",
        "   > A comprehensive practical guide that breaks down how GPU acceleration works with Polars dataframes in simpler terms.\n",
        "\n",
        "These resources will be particularly valuable as to understand as I move onto our modularity optimization analysis. The resources give more detail on how operations over larger datasets benefit from GPU acceleration.\n",
        "\n"
      ],
      "metadata": {
        "id": "UWp0tcFvhxub"
      }
    },
    {
      "cell_type": "code",
      "source": [
        "import time\n",
        "import pandas as pd\n",
        "\n",
        "# Time pandas load\n",
        "start = time.perf_counter()\n",
        "pd_df = pd.read_csv(\"./nasdaq_100/NASDAQ_100_Data_From_2010.csv\", sep=\"\\t\")\n",
        "pd_time = time.perf_counter() - start\n",
        "print(f\"Pandas load time: {pd_time:.4f} seconds\")\n",
        "\n",
        "# Time polars load\n",
        "start = time.perf_counter()\n",
        "pl_df = pl.read_csv(\"./nasdaq_100/NASDAQ_100_Data_From_2010.csv\", separator=\"\\t\")\n",
        "pl_time = time.perf_counter() - start\n",
        "print(f\"Polars load time: {pl_time:.4f} seconds\")\n",
        "\n",
        "print(f\"\\nPolars is {pd_time/pl_time:.2f}x faster\")\n",
        "df = pl_df"
      ],
      "metadata": {
        "colab": {
          "base_uri": "https://localhost:8080/",
          "height": 0
        },
        "id": "aoczdK7Yho8e",
        "outputId": "2686ae59-735a-4c73-850b-4fec3bc57535"
      },
      "execution_count": 17,
      "outputs": [
        {
          "output_type": "stream",
          "name": "stdout",
          "text": [
            "Pandas load time: 0.6962 seconds\n",
            "Polars load time: 0.2104 seconds\n",
            "\n",
            "Polars is 3.31x faster\n"
          ]
        }
      ]
    },
    {
      "cell_type": "code",
      "source": [
        "df.head(10)"
      ],
      "metadata": {
        "colab": {
          "base_uri": "https://localhost:8080/",
          "height": 412
        },
        "id": "ohu6erK3jvCv",
        "outputId": "27b46dfa-0d19-4bc4-b8bf-34b605eac152"
      },
      "execution_count": 18,
      "outputs": [
        {
          "output_type": "execute_result",
          "data": {
            "text/plain": [
              "shape: (10, 8)\n",
              "┌────────────┬──────────┬──────────┬──────────┬──────────┬───────────┬───────────┬──────┐\n",
              "│ Date       ┆ Open     ┆ High     ┆ Low      ┆ Close    ┆ Adj Close ┆ Volume    ┆ Name │\n",
              "│ ---        ┆ ---      ┆ ---      ┆ ---      ┆ ---      ┆ ---       ┆ ---       ┆ ---  │\n",
              "│ str        ┆ f64      ┆ f64      ┆ f64      ┆ f64      ┆ f64       ┆ i64       ┆ str  │\n",
              "╞════════════╪══════════╪══════════╪══════════╪══════════╪═══════════╪═══════════╪══════╡\n",
              "│ 2010-01-04 ┆ 7.6225   ┆ 7.660714 ┆ 7.585    ┆ 7.643214 ┆ 6.562591  ┆ 493729600 ┆ AAPL │\n",
              "│ 2010-01-05 ┆ 7.664286 ┆ 7.699643 ┆ 7.616071 ┆ 7.656429 ┆ 6.573935  ┆ 601904800 ┆ AAPL │\n",
              "│ 2010-01-06 ┆ 7.656429 ┆ 7.686786 ┆ 7.526786 ┆ 7.534643 ┆ 6.469369  ┆ 552160000 ┆ AAPL │\n",
              "│ 2010-01-07 ┆ 7.5625   ┆ 7.571429 ┆ 7.466071 ┆ 7.520714 ┆ 6.457407  ┆ 477131200 ┆ AAPL │\n",
              "│ 2010-01-08 ┆ 7.510714 ┆ 7.571429 ┆ 7.466429 ┆ 7.570714 ┆ 6.500339  ┆ 447610800 ┆ AAPL │\n",
              "│ 2010-01-11 ┆ 7.6      ┆ 7.607143 ┆ 7.444643 ┆ 7.503929 ┆ 6.442997  ┆ 462229600 ┆ AAPL │\n",
              "│ 2010-01-12 ┆ 7.471071 ┆ 7.491786 ┆ 7.372143 ┆ 7.418571 ┆ 6.369709  ┆ 594459600 ┆ AAPL │\n",
              "│ 2010-01-13 ┆ 7.423929 ┆ 7.533214 ┆ 7.289286 ┆ 7.523214 ┆ 6.459555  ┆ 605892000 ┆ AAPL │\n",
              "│ 2010-01-14 ┆ 7.503929 ┆ 7.516429 ┆ 7.465    ┆ 7.479643 ┆ 6.422143  ┆ 432894000 ┆ AAPL │\n",
              "│ 2010-01-15 ┆ 7.533214 ┆ 7.557143 ┆ 7.3525   ┆ 7.354643 ┆ 6.314816  ┆ 594067600 ┆ AAPL │\n",
              "└────────────┴──────────┴──────────┴──────────┴──────────┴───────────┴───────────┴──────┘"
            ],
            "text/html": [
              "<div><style>\n",
              ".dataframe > thead > tr,\n",
              ".dataframe > tbody > tr {\n",
              "  text-align: right;\n",
              "  white-space: pre-wrap;\n",
              "}\n",
              "</style>\n",
              "<small>shape: (10, 8)</small><table border=\"1\" class=\"dataframe\"><thead><tr><th>Date</th><th>Open</th><th>High</th><th>Low</th><th>Close</th><th>Adj Close</th><th>Volume</th><th>Name</th></tr><tr><td>str</td><td>f64</td><td>f64</td><td>f64</td><td>f64</td><td>f64</td><td>i64</td><td>str</td></tr></thead><tbody><tr><td>&quot;2010-01-04&quot;</td><td>7.6225</td><td>7.660714</td><td>7.585</td><td>7.643214</td><td>6.562591</td><td>493729600</td><td>&quot;AAPL&quot;</td></tr><tr><td>&quot;2010-01-05&quot;</td><td>7.664286</td><td>7.699643</td><td>7.616071</td><td>7.656429</td><td>6.573935</td><td>601904800</td><td>&quot;AAPL&quot;</td></tr><tr><td>&quot;2010-01-06&quot;</td><td>7.656429</td><td>7.686786</td><td>7.526786</td><td>7.534643</td><td>6.469369</td><td>552160000</td><td>&quot;AAPL&quot;</td></tr><tr><td>&quot;2010-01-07&quot;</td><td>7.5625</td><td>7.571429</td><td>7.466071</td><td>7.520714</td><td>6.457407</td><td>477131200</td><td>&quot;AAPL&quot;</td></tr><tr><td>&quot;2010-01-08&quot;</td><td>7.510714</td><td>7.571429</td><td>7.466429</td><td>7.570714</td><td>6.500339</td><td>447610800</td><td>&quot;AAPL&quot;</td></tr><tr><td>&quot;2010-01-11&quot;</td><td>7.6</td><td>7.607143</td><td>7.444643</td><td>7.503929</td><td>6.442997</td><td>462229600</td><td>&quot;AAPL&quot;</td></tr><tr><td>&quot;2010-01-12&quot;</td><td>7.471071</td><td>7.491786</td><td>7.372143</td><td>7.418571</td><td>6.369709</td><td>594459600</td><td>&quot;AAPL&quot;</td></tr><tr><td>&quot;2010-01-13&quot;</td><td>7.423929</td><td>7.533214</td><td>7.289286</td><td>7.523214</td><td>6.459555</td><td>605892000</td><td>&quot;AAPL&quot;</td></tr><tr><td>&quot;2010-01-14&quot;</td><td>7.503929</td><td>7.516429</td><td>7.465</td><td>7.479643</td><td>6.422143</td><td>432894000</td><td>&quot;AAPL&quot;</td></tr><tr><td>&quot;2010-01-15&quot;</td><td>7.533214</td><td>7.557143</td><td>7.3525</td><td>7.354643</td><td>6.314816</td><td>594067600</td><td>&quot;AAPL&quot;</td></tr></tbody></table></div>"
            ]
          },
          "metadata": {},
          "execution_count": 18
        }
      ]
    },
    {
      "cell_type": "code",
      "source": [
        "# Check count and remove any NaN rows\n",
        "nan_count = df.null_count().sum()\n",
        "print(f\"Number of rows with NaN values: {nan_count}\")"
      ],
      "metadata": {
        "colab": {
          "base_uri": "https://localhost:8080/",
          "height": 0
        },
        "id": "EtWvYrv1jw_O",
        "outputId": "0cc4a7b6-d6e0-4b1d-d440-65d4d2779339"
      },
      "execution_count": 22,
      "outputs": [
        {
          "output_type": "stream",
          "name": "stdout",
          "text": [
            "Number of rows with NaN values: shape: (1, 8)\n",
            "┌──────┬──────┬──────┬─────┬───────┬───────────┬────────┬──────┐\n",
            "│ Date ┆ Open ┆ High ┆ Low ┆ Close ┆ Adj Close ┆ Volume ┆ Name │\n",
            "│ ---  ┆ ---  ┆ ---  ┆ --- ┆ ---   ┆ ---       ┆ ---    ┆ ---  │\n",
            "│ u32  ┆ u32  ┆ u32  ┆ u32 ┆ u32   ┆ u32       ┆ u32    ┆ u32  │\n",
            "╞══════╪══════╪══════╪═════╪═══════╪═══════════╪════════╪══════╡\n",
            "│ 0    ┆ 0    ┆ 0    ┆ 0   ┆ 0     ┆ 0         ┆ 0      ┆ 0    │\n",
            "└──────┴──────┴──────┴─────┴───────┴───────────┴────────┴──────┘\n"
          ]
        }
      ]
    },
    {
      "cell_type": "code",
      "source": [
        "# ensure that Date column is read as a date\n",
        "df = df.with_columns(pl.col(\"Date\").str.strptime(pl.Date))"
      ],
      "metadata": {
        "id": "QZIBGvP4kZa7"
      },
      "execution_count": 23,
      "outputs": []
    },
    {
      "cell_type": "code",
      "source": [
        "# How many individual stocks are there and what are the names\n",
        "unique_stocks = df.get_column(\"Name\").unique()\n",
        "num_unique_stocks = len(unique_stocks)\n",
        "print(f\"There are {num_unique_stocks} unique stocks.\")"
      ],
      "metadata": {
        "colab": {
          "base_uri": "https://localhost:8080/",
          "height": 0
        },
        "id": "L6ragnnFjzn4",
        "outputId": "02a14470-43ef-48a7-de1a-099c5df7bc3e"
      },
      "execution_count": 25,
      "outputs": [
        {
          "output_type": "stream",
          "name": "stdout",
          "text": [
            "There are 102 unique stocks.\n"
          ]
        }
      ]
    },
    {
      "cell_type": "code",
      "source": [
        "def measure_date_range(df: pl.DataFrame) -> pl.DataFrame:\n",
        "    \"\"\"\n",
        "    Measures the date ranges for each stock in the dataset\n",
        "    \"\"\"\n",
        "    return (\n",
        "        df.group_by(\"Name\")\n",
        "        .agg([\n",
        "            ((pl.col(\"Date\").max() - pl.col(\"Date\").min()).dt.total_days()).alias(\"date_range\")\n",
        "        ])\n",
        "    )\n",
        "\n",
        "ranges = measure_date_range(df)\n",
        "ranges.head()"
      ],
      "metadata": {
        "colab": {
          "base_uri": "https://localhost:8080/",
          "height": 255
        },
        "id": "p9UEntFLkqpz",
        "outputId": "a1b25edf-d0c2-4714-d867-ce26ff32fbca"
      },
      "execution_count": 29,
      "outputs": [
        {
          "output_type": "execute_result",
          "data": {
            "text/plain": [
              "shape: (5, 2)\n",
              "┌───────┬────────────┐\n",
              "│ Name  ┆ date_range │\n",
              "│ ---   ┆ ---        │\n",
              "│ str   ┆ i64        │\n",
              "╞═══════╪════════════╡\n",
              "│ CSCO  ┆ 4267       │\n",
              "│ EBAY  ┆ 4267       │\n",
              "│ EXC   ┆ 4267       │\n",
              "│ PEP   ┆ 4267       │\n",
              "│ GOOGL ┆ 4267       │\n",
              "└───────┴────────────┘"
            ],
            "text/html": [
              "<div><style>\n",
              ".dataframe > thead > tr,\n",
              ".dataframe > tbody > tr {\n",
              "  text-align: right;\n",
              "  white-space: pre-wrap;\n",
              "}\n",
              "</style>\n",
              "<small>shape: (5, 2)</small><table border=\"1\" class=\"dataframe\"><thead><tr><th>Name</th><th>date_range</th></tr><tr><td>str</td><td>i64</td></tr></thead><tbody><tr><td>&quot;CSCO&quot;</td><td>4267</td></tr><tr><td>&quot;EBAY&quot;</td><td>4267</td></tr><tr><td>&quot;EXC&quot;</td><td>4267</td></tr><tr><td>&quot;PEP&quot;</td><td>4267</td></tr><tr><td>&quot;GOOGL&quot;</td><td>4267</td></tr></tbody></table></div>"
            ]
          },
          "metadata": {},
          "execution_count": 29
        }
      ]
    },
    {
      "cell_type": "code",
      "source": [
        "# check the distribution\n",
        "# Create the histogram\n",
        "sns.histplot(ranges, kde=True, bins=10, edgecolor='blue')\n",
        "\n",
        "# Add titles and labels\n",
        "plt.title('Histogram of Stock Date Ranges')\n",
        "plt.xlabel('Value')\n",
        "plt.ylabel('Frequency')\n",
        "\n",
        "# Display the plot\n",
        "plt.show()"
      ],
      "metadata": {
        "colab": {
          "base_uri": "https://localhost:8080/",
          "height": 472
        },
        "id": "4c6j1B2-lZlb",
        "outputId": "d53d3de9-c7fe-49b8-a3a2-7b64a09acc87"
      },
      "execution_count": 30,
      "outputs": [
        {
          "output_type": "display_data",
          "data": {
            "text/plain": [
              "<Figure size 640x480 with 1 Axes>"
            ],
            "image/png": "[encoded data removed]"
          },
          "metadata": {}
        }
      ]
    },
    {
      "cell_type": "markdown",
      "source": [
        "Note that there is an uneven distribution of stock date ranges. It appears that for a majority of stocks, we do have a date range of 4,000+ days. However, among the dataset there are some stocks with very little data comparatively by date range, and there looks to be a significant number of stocks with more constrained date ranges.\n"
      ],
      "metadata": {
        "id": "vCleFwnylcpU"
      }
    },
    {
      "cell_type": "code",
      "source": [
        "def measure_stock_volumes(df: pl.DataFrame) -> pl.DataFrame:\n",
        "    \"\"\"\n",
        "    Measures volume statistics per stock using Polars aggregations\n",
        "    \"\"\"\n",
        "    return (\n",
        "        df.group_by(\"Name\")\n",
        "        .agg([\n",
        "            ((pl.col(\"Date\").max() - pl.col(\"Date\").min()).dt.total_days()).alias(\"date_range\"),\n",
        "            pl.col(\"Volume\").mean().round(1).alias(\"vol_mean\"),\n",
        "            pl.col(\"Volume\").median().round(1).alias(\"vol_med\"),\n",
        "            pl.col(\"Volume\").mean().round(1).alias(\"vol_avg\")  # in this case avg = mean\n",
        "        ])\n",
        "    )\n",
        "\n",
        "vols = measure_stock_volumes(df)\n",
        "vols.head()"
      ],
      "metadata": {
        "colab": {
          "base_uri": "https://localhost:8080/",
          "height": 255
        },
        "id": "A9LicwnPldGD",
        "outputId": "1debcc42-74b8-4a82-cea5-20dc8c1cc866"
      },
      "execution_count": 31,
      "outputs": [
        {
          "output_type": "execute_result",
          "data": {
            "text/plain": [
              "shape: (5, 5)\n",
              "┌──────┬────────────┬───────────┬───────────┬───────────┐\n",
              "│ Name ┆ date_range ┆ vol_mean  ┆ vol_med   ┆ vol_avg   │\n",
              "│ ---  ┆ ---        ┆ ---       ┆ ---       ┆ ---       │\n",
              "│ str  ┆ i64        ┆ f64       ┆ f64       ┆ f64       │\n",
              "╞══════╪════════════╪═══════════╪═══════════╪═══════════╡\n",
              "│ WDAY ┆ 3255       ┆ 1719147.1 ┆ 1.41245e6 ┆ 1719147.1 │\n",
              "│ BIDU ┆ 4267       ┆ 5300761.8 ┆ 3.7049e6  ┆ 5300761.8 │\n",
              "│ KLAC ┆ 4267       ┆ 1893288.9 ┆ 1.5309e6  ┆ 1893288.9 │\n",
              "│ INCY ┆ 4267       ┆ 1595852.3 ┆ 1.3397e6  ┆ 1595852.3 │\n",
              "│ ATVI ┆ 4267       ┆ 8306530.9 ┆ 6.948e6   ┆ 8306530.9 │\n",
              "└──────┴────────────┴───────────┴───────────┴───────────┘"
            ],
            "text/html": [
              "<div><style>\n",
              ".dataframe > thead > tr,\n",
              ".dataframe > tbody > tr {\n",
              "  text-align: right;\n",
              "  white-space: pre-wrap;\n",
              "}\n",
              "</style>\n",
              "<small>shape: (5, 5)</small><table border=\"1\" class=\"dataframe\"><thead><tr><th>Name</th><th>date_range</th><th>vol_mean</th><th>vol_med</th><th>vol_avg</th></tr><tr><td>str</td><td>i64</td><td>f64</td><td>f64</td><td>f64</td></tr></thead><tbody><tr><td>&quot;WDAY&quot;</td><td>3255</td><td>1719147.1</td><td>1.41245e6</td><td>1719147.1</td></tr><tr><td>&quot;BIDU&quot;</td><td>4267</td><td>5300761.8</td><td>3.7049e6</td><td>5300761.8</td></tr><tr><td>&quot;KLAC&quot;</td><td>4267</td><td>1893288.9</td><td>1.5309e6</td><td>1893288.9</td></tr><tr><td>&quot;INCY&quot;</td><td>4267</td><td>1595852.3</td><td>1.3397e6</td><td>1595852.3</td></tr><tr><td>&quot;ATVI&quot;</td><td>4267</td><td>8306530.9</td><td>6.948e6</td><td>8306530.9</td></tr></tbody></table></div>"
            ]
          },
          "metadata": {},
          "execution_count": 31
        }
      ]
    },
    {
      "cell_type": "code",
      "source": [
        "# what is the distribution of stock trade volumes among the dataset\n",
        "\n",
        "# gather volume metrics\n",
        "vol_metrics = ['vol_avg', 'vol_med', 'vol_mean']\n",
        "\n",
        "# Create a figure with 3 subplots arranged vertically (3x1)\n",
        "fig, axes = plt.subplots(nrows=3, ncols=1, figsize=(8, 12))\n",
        "\n",
        "# Iterate over the volume metrics and plot each one\n",
        "for ax, col_name in zip(axes, vol_metrics):\n",
        "    # Create the histogram for each volume metric\n",
        "    sns.histplot(vols[col_name], kde=True, ax=ax, bins=10, edgecolor='blue')\n",
        "\n",
        "    # Add titles and labels for each subplot\n",
        "    ax.set_title(f'Histogram of {col_name}')\n",
        "    ax.set_xlabel('Value')\n",
        "    ax.set_ylabel('Frequency')\n",
        "\n",
        "# Adjust layout to prevent overlap\n",
        "plt.tight_layout()\n",
        "\n",
        "# Display the plot\n",
        "plt.show()\n"
      ],
      "metadata": {
        "colab": {
          "base_uri": "https://localhost:8080/",
          "height": 1207
        },
        "id": "WXSJZPDJl1y4",
        "outputId": "8db43fa8-85d8-405f-e7f8-a8d1b0f3755c"
      },
      "execution_count": 32,
      "outputs": [
        {
          "output_type": "display_data",
          "data": {
            "text/plain": [
              "<Figure size 800x1200 with 3 Axes>"
            ],
            "image/png": "[encoded data removed]"
          },
          "metadata": {}
        }
      ]
    },
    {
      "cell_type": "markdown",
      "source": [
        "We have plotted the average, mean, and median volume distributions across all stocks in the dataset. It appears that there is some similarity among stock volumes, and there are few outliers as well.\n"
      ],
      "metadata": {
        "id": "DkZdYr3Cl5Or"
      }
    },
    {
      "cell_type": "markdown",
      "source": [
        "## Feature Engineering\n",
        "The goal of feature engineering in our case is to create a \"stock performance\" feature that maintains the ordinality of the dataset, i.e. maintains the sequential daily index.\n",
        "- In this section, we engineer daily stock performance features using the following standard formulas.\n",
        "\n",
        "# Price Change Percentage\n",
        "The formula for Price Change Percentage is:\n",
        "\n",
        "$$\n",
        "\\text{Price Change (\\%)} = \\left( \\frac{\\text{Close Price} - \\text{Open Price}}{\\text{Open Price}} \\right) \\times 100\n",
        "$$\n",
        "\n",
        "# Volume-Weighted Average Price (VWAP)\n",
        "The formula for VWAP is:\n",
        "\n",
        "$$\n",
        "\\text{VWAP} = \\frac{\\sum_{i=1}^{n} (\\text{Price}_i \\times \\text{Volume}_i)}{\\sum_{i=1}^{n} \\text{Volume}_i}\n",
        "$$\n",
        "where *n* is the number of time intervals.\n",
        "\n",
        "Note: In the case of PCP and VWAP, the time internal is daily and thus a bit negligible as *n* will always be one. This metric is still valuable because we're able to give weight by daily volume for the stock.\n",
        "\n",
        "# Time-Weighted Average Price (TWAP)\n",
        "The formula for TWAP is:\n",
        "\n",
        "$$\n",
        "\\text{TWAP} = \\frac{\\sum_{i=1}^{n} \\text{Price}_i}{n}\n",
        "$$\n",
        "where *n* is the number of time intervals.\n",
        "\n",
        "Note: In the case of TWAP, we have to engineer a separate data structure and graph to analyze the TWAP because if *n* is one each time, we're not able to derive useful information. The sum of daily price is simply the sum of that daily price.\n",
        "\n",
        "\n",
        "# Price Volatility\n",
        "\n",
        "The daily price volatility is calculated as a percentage of the opening price:\n",
        "\n",
        "$$\n",
        "\\text{Volatility} = \\frac{\\text{High} - \\text{Low}}{\\text{Open}} \\times 100\\%\n",
        "$$\n",
        "\n",
        "Where:\n",
        "- \\(High\\): The highest price of the day\n",
        "- \\(Low\\): The lowest price of the day\n",
        "- \\(Open\\): The opening price of the day\n",
        "\n",
        "This measure represents the maximum price range as a percentage of the opening price, giving us a normalized measure of daily price movement.\n",
        "\n"
      ],
      "metadata": {
        "id": "JOh2xuf-mDsd"
      }
    },
    {
      "cell_type": "markdown",
      "source": [
        "## Develop Volatility metric for the dataset"
      ],
      "metadata": {
        "id": "zw1RhVZmsUlE"
      }
    },
    {
      "cell_type": "code",
      "source": [
        "def calculate_daily_volatility(df: pl.DataFrame) -> pl.DataFrame:\n",
        "    return df.with_columns([\n",
        "        ((pl.col(\"High\") - pl.col(\"Low\")) / pl.col(\"Open\") * 100).alias(\"volatility\")\n",
        "    ])\n",
        "\n",
        "df_with_volatility = calculate_daily_volatility(df)\n",
        "df_with_volatility.head()"
      ],
      "metadata": {
        "colab": {
          "base_uri": "https://localhost:8080/",
          "height": 255
        },
        "id": "RG-0DaZnl5v8",
        "outputId": "c7c860ff-aab4-488f-9efc-2905ec65e466"
      },
      "execution_count": 50,
      "outputs": [
        {
          "output_type": "execute_result",
          "data": {
            "text/plain": [
              "shape: (5, 9)\n",
              "┌────────────┬──────────┬──────────┬──────────┬───┬───────────┬───────────┬──────┬────────────┐\n",
              "│ Date       ┆ Open     ┆ High     ┆ Low      ┆ … ┆ Adj Close ┆ Volume    ┆ Name ┆ volatility │\n",
              "│ ---        ┆ ---      ┆ ---      ┆ ---      ┆   ┆ ---       ┆ ---       ┆ ---  ┆ ---        │\n",
              "│ date       ┆ f64      ┆ f64      ┆ f64      ┆   ┆ f64       ┆ i64       ┆ str  ┆ f64        │\n",
              "╞════════════╪══════════╪══════════╪══════════╪═══╪═══════════╪═══════════╪══════╪════════════╡\n",
              "│ 2010-01-04 ┆ 7.6225   ┆ 7.660714 ┆ 7.585    ┆ … ┆ 6.562591  ┆ 493729600 ┆ AAPL ┆ 0.993298   │\n",
              "│ 2010-01-05 ┆ 7.664286 ┆ 7.699643 ┆ 7.616071 ┆ … ┆ 6.573935  ┆ 601904800 ┆ AAPL ┆ 1.090407   │\n",
              "│ 2010-01-06 ┆ 7.656429 ┆ 7.686786 ┆ 7.526786 ┆ … ┆ 6.469369  ┆ 552160000 ┆ AAPL ┆ 2.089751   │\n",
              "│ 2010-01-07 ┆ 7.5625   ┆ 7.571429 ┆ 7.466071 ┆ … ┆ 6.457407  ┆ 477131200 ┆ AAPL ┆ 1.393159   │\n",
              "│ 2010-01-08 ┆ 7.510714 ┆ 7.571429 ┆ 7.466429 ┆ … ┆ 6.500339  ┆ 447610800 ┆ AAPL ┆ 1.397997   │\n",
              "└────────────┴──────────┴──────────┴──────────┴───┴───────────┴───────────┴──────┴────────────┘"
            ],
            "text/html": [
              "<div><style>\n",
              ".dataframe > thead > tr,\n",
              ".dataframe > tbody > tr {\n",
              "  text-align: right;\n",
              "  white-space: pre-wrap;\n",
              "}\n",
              "</style>\n",
              "<small>shape: (5, 9)</small><table border=\"1\" class=\"dataframe\"><thead><tr><th>Date</th><th>Open</th><th>High</th><th>Low</th><th>Close</th><th>Adj Close</th><th>Volume</th><th>Name</th><th>volatility</th></tr><tr><td>date</td><td>f64</td><td>f64</td><td>f64</td><td>f64</td><td>f64</td><td>i64</td><td>str</td><td>f64</td></tr></thead><tbody><tr><td>2010-01-04</td><td>7.6225</td><td>7.660714</td><td>7.585</td><td>7.643214</td><td>6.562591</td><td>493729600</td><td>&quot;AAPL&quot;</td><td>0.993298</td></tr><tr><td>2010-01-05</td><td>7.664286</td><td>7.699643</td><td>7.616071</td><td>7.656429</td><td>6.573935</td><td>601904800</td><td>&quot;AAPL&quot;</td><td>1.090407</td></tr><tr><td>2010-01-06</td><td>7.656429</td><td>7.686786</td><td>7.526786</td><td>7.534643</td><td>6.469369</td><td>552160000</td><td>&quot;AAPL&quot;</td><td>2.089751</td></tr><tr><td>2010-01-07</td><td>7.5625</td><td>7.571429</td><td>7.466071</td><td>7.520714</td><td>6.457407</td><td>477131200</td><td>&quot;AAPL&quot;</td><td>1.393159</td></tr><tr><td>2010-01-08</td><td>7.510714</td><td>7.571429</td><td>7.466429</td><td>7.570714</td><td>6.500339</td><td>447610800</td><td>&quot;AAPL&quot;</td><td>1.397997</td></tr></tbody></table></div>"
            ]
          },
          "metadata": {},
          "execution_count": 50
        }
      ]
    },
    {
      "cell_type": "markdown",
      "source": [
        "## Develop PCP for the dataset"
      ],
      "metadata": {
        "id": "TxrdYqM1sY6L"
      }
    },
    {
      "cell_type": "code",
      "source": [
        "# develop PCP for the dataset\n",
        "def PCP(dataframe: pl.DataFrame) -> pl.DataFrame:\n",
        "    return dataframe.with_columns(\n",
        "        ((pl.col('Close') - pl.col('Open')) / pl.col('Open') * 100).alias('pcp')\n",
        "    )\n",
        "\n",
        "df_w_pcp = PCP(df_with_volatility)\n",
        "df_w_pcp"
      ],
      "metadata": {
        "colab": {
          "base_uri": "https://localhost:8080/",
          "height": 443
        },
        "id": "w94BodMor3cR",
        "outputId": "481566a6-cabf-45bb-d2ce-e2ce7fb5baf9"
      },
      "execution_count": 51,
      "outputs": [
        {
          "output_type": "execute_result",
          "data": {
            "text/plain": [
              "shape: (271_680, 10)\n",
              "┌────────────┬────────────┬────────────┬────────────┬───┬───────────┬──────┬───────────┬───────────┐\n",
              "│ Date       ┆ Open       ┆ High       ┆ Low        ┆ … ┆ Volume    ┆ Name ┆ volatilit ┆ pcp       │\n",
              "│ ---        ┆ ---        ┆ ---        ┆ ---        ┆   ┆ ---       ┆ ---  ┆ y         ┆ ---       │\n",
              "│ date       ┆ f64        ┆ f64        ┆ f64        ┆   ┆ i64       ┆ str  ┆ ---       ┆ f64       │\n",
              "│            ┆            ┆            ┆            ┆   ┆           ┆      ┆ f64       ┆           │\n",
              "╞════════════╪════════════╪════════════╪════════════╪═══╪═══════════╪══════╪═══════════╪═══════════╡\n",
              "│ 2010-01-04 ┆ 7.6225     ┆ 7.660714   ┆ 7.585      ┆ … ┆ 493729600 ┆ AAPL ┆ 0.993298  ┆ 0.271752  │\n",
              "│ 2010-01-05 ┆ 7.664286   ┆ 7.699643   ┆ 7.616071   ┆ … ┆ 601904800 ┆ AAPL ┆ 1.090407  ┆ -0.102519 │\n",
              "│ 2010-01-06 ┆ 7.656429   ┆ 7.686786   ┆ 7.526786   ┆ … ┆ 552160000 ┆ AAPL ┆ 2.089751  ┆ -1.590632 │\n",
              "│ 2010-01-07 ┆ 7.5625     ┆ 7.571429   ┆ 7.466071   ┆ … ┆ 477131200 ┆ AAPL ┆ 1.393159  ┆ -0.552545 │\n",
              "│ 2010-01-08 ┆ 7.510714   ┆ 7.571429   ┆ 7.466429   ┆ … ┆ 447610800 ┆ AAPL ┆ 1.397997  ┆ 0.798858  │\n",
              "│ …          ┆ …          ┆ …          ┆ …          ┆ … ┆ …         ┆ …    ┆ …         ┆ …         │\n",
              "│ 2021-09-03 ┆ 295.325012 ┆ 301.804993 ┆ 292.029999 ┆ … ┆ 6127900   ┆ ZM   ┆ 3.309911  ┆ 1.003977  │\n",
              "│ 2021-09-07 ┆ 298.295013 ┆ 300.980011 ┆ 294.799988 ┆ … ┆ 4251900   ┆ ZM   ┆ 2.071782  ┆ 0.558165  │\n",
              "│ 2021-09-08 ┆ 299.549988 ┆ 299.959991 ┆ 290.529999 ┆ … ┆ 3934400   ┆ ZM   ┆ 3.148053  ┆ -1.986307 │\n",
              "│ 2021-09-09 ┆ 292.160004 ┆ 297.570007 ┆ 291.130005 ┆ … ┆ 3350100   ┆ ZM   ┆ 2.204272  ┆ 1.266423  │\n",
              "│ 2021-09-10 ┆ 296.910004 ┆ 306.263    ┆ 296.809998 ┆ … ┆ 6089600   ┆ ZM   ┆ 3.183794  ┆ 1.545922  │\n",
              "└────────────┴────────────┴────────────┴────────────┴───┴───────────┴──────┴───────────┴───────────┘"
            ],
            "text/html": [
              "<div><style>\n",
              ".dataframe > thead > tr,\n",
              ".dataframe > tbody > tr {\n",
              "  text-align: right;\n",
              "  white-space: pre-wrap;\n",
              "}\n",
              "</style>\n",
              "<small>shape: (271_680, 10)</small><table border=\"1\" class=\"dataframe\"><thead><tr><th>Date</th><th>Open</th><th>High</th><th>Low</th><th>Close</th><th>Adj Close</th><th>Volume</th><th>Name</th><th>volatility</th><th>pcp</th></tr><tr><td>date</td><td>f64</td><td>f64</td><td>f64</td><td>f64</td><td>f64</td><td>i64</td><td>str</td><td>f64</td><td>f64</td></tr></thead><tbody><tr><td>2010-01-04</td><td>7.6225</td><td>7.660714</td><td>7.585</td><td>7.643214</td><td>6.562591</td><td>493729600</td><td>&quot;AAPL&quot;</td><td>0.993298</td><td>0.271752</td></tr><tr><td>2010-01-05</td><td>7.664286</td><td>7.699643</td><td>7.616071</td><td>7.656429</td><td>6.573935</td><td>601904800</td><td>&quot;AAPL&quot;</td><td>1.090407</td><td>-0.102519</td></tr><tr><td>2010-01-06</td><td>7.656429</td><td>7.686786</td><td>7.526786</td><td>7.534643</td><td>6.469369</td><td>552160000</td><td>&quot;AAPL&quot;</td><td>2.089751</td><td>-1.590632</td></tr><tr><td>2010-01-07</td><td>7.5625</td><td>7.571429</td><td>7.466071</td><td>7.520714</td><td>6.457407</td><td>477131200</td><td>&quot;AAPL&quot;</td><td>1.393159</td><td>-0.552545</td></tr><tr><td>2010-01-08</td><td>7.510714</td><td>7.571429</td><td>7.466429</td><td>7.570714</td><td>6.500339</td><td>447610800</td><td>&quot;AAPL&quot;</td><td>1.397997</td><td>0.798858</td></tr><tr><td>&hellip;</td><td>&hellip;</td><td>&hellip;</td><td>&hellip;</td><td>&hellip;</td><td>&hellip;</td><td>&hellip;</td><td>&hellip;</td><td>&hellip;</td><td>&hellip;</td></tr><tr><td>2021-09-03</td><td>295.325012</td><td>301.804993</td><td>292.029999</td><td>298.290009</td><td>298.290009</td><td>6127900</td><td>&quot;ZM&quot;</td><td>3.309911</td><td>1.003977</td></tr><tr><td>2021-09-07</td><td>298.295013</td><td>300.980011</td><td>294.799988</td><td>299.959991</td><td>299.959991</td><td>4251900</td><td>&quot;ZM&quot;</td><td>2.071782</td><td>0.558165</td></tr><tr><td>2021-09-08</td><td>299.549988</td><td>299.959991</td><td>290.529999</td><td>293.600006</td><td>293.600006</td><td>3934400</td><td>&quot;ZM&quot;</td><td>3.148053</td><td>-1.986307</td></tr><tr><td>2021-09-09</td><td>292.160004</td><td>297.570007</td><td>291.130005</td><td>295.859985</td><td>295.859985</td><td>3350100</td><td>&quot;ZM&quot;</td><td>2.204272</td><td>1.266423</td></tr><tr><td>2021-09-10</td><td>296.910004</td><td>306.263</td><td>296.809998</td><td>301.5</td><td>301.5</td><td>6089600</td><td>&quot;ZM&quot;</td><td>3.183794</td><td>1.545922</td></tr></tbody></table></div>"
            ]
          },
          "metadata": {},
          "execution_count": 51
        }
      ]
    },
    {
      "cell_type": "code",
      "source": [
        "# Check for days with zero volume\n",
        "zero_volume_days = df_w_pcp.filter(pl.col('Volume') == 0)\n",
        "print(\"Days with zero volume:\")\n",
        "print(f\"Days with zero trade volume: {zero_volume_days.height}\")"
      ],
      "metadata": {
        "colab": {
          "base_uri": "https://localhost:8080/",
          "height": 0
        },
        "id": "O8jWqq2Zrvx3",
        "outputId": "c6ec3bfd-1a29-4394-f97f-d3028636c488"
      },
      "execution_count": 58,
      "outputs": [
        {
          "output_type": "stream",
          "name": "stdout",
          "text": [
            "Days with zero volume:\n",
            "Days with zero trade volume: 18\n"
          ]
        }
      ]
    },
    {
      "cell_type": "code",
      "source": [
        "def VWAP(stock_list: list[str], dataframe: pl.DataFrame) -> pl.DataFrame:\n",
        "    # Create expression for average price calculation\n",
        "    avg_price = (pl.col('High') + pl.col('Low') + pl.col('Close')) / 3\n",
        "\n",
        "    return (dataframe\n",
        "        # Group by stock name to calculate average volume per stock\n",
        "        .with_columns([\n",
        "            pl.col('Volume').mean().over('Name').alias('avg_volume')\n",
        "        ])\n",
        "        # Replace 0 volumes with the stock's average volume\n",
        "        .with_columns([\n",
        "            pl.when(pl.col('Volume') == 0)\n",
        "            .then(pl.col('avg_volume'))\n",
        "            .otherwise(pl.col('Volume'))\n",
        "            .alias('adj_volume')\n",
        "        ])\n",
        "        # Calculate VWAP\n",
        "        .with_columns([\n",
        "            (avg_price * pl.col('adj_volume') / pl.col('adj_volume')).alias('vwap')\n",
        "        ])\n",
        "        # Drop the temporary columns we created\n",
        "        .drop(['avg_volume', 'adj_volume'])\n",
        "    )\n",
        "\n",
        "df_w_vwap = VWAP(stock_list=unique_stocks, dataframe=df_w_pcp)\n",
        "df_w_vwap.head(5)"
      ],
      "metadata": {
        "colab": {
          "base_uri": "https://localhost:8080/",
          "height": 255
        },
        "id": "7HLpl0nmrwI6",
        "outputId": "711c7728-9375-46f8-d610-3944c97c88d8"
      },
      "execution_count": 59,
      "outputs": [
        {
          "output_type": "execute_result",
          "data": {
            "text/plain": [
              "shape: (5, 11)\n",
              "┌────────────┬──────────┬──────────┬──────────┬───┬──────┬────────────┬───────────┬──────────┐\n",
              "│ Date       ┆ Open     ┆ High     ┆ Low      ┆ … ┆ Name ┆ volatility ┆ pcp       ┆ vwap     │\n",
              "│ ---        ┆ ---      ┆ ---      ┆ ---      ┆   ┆ ---  ┆ ---        ┆ ---       ┆ ---      │\n",
              "│ date       ┆ f64      ┆ f64      ┆ f64      ┆   ┆ str  ┆ f64        ┆ f64       ┆ f64      │\n",
              "╞════════════╪══════════╪══════════╪══════════╪═══╪══════╪════════════╪═══════════╪══════════╡\n",
              "│ 2010-01-04 ┆ 7.6225   ┆ 7.660714 ┆ 7.585    ┆ … ┆ AAPL ┆ 0.993298   ┆ 0.271752  ┆ 7.629643 │\n",
              "│ 2010-01-05 ┆ 7.664286 ┆ 7.699643 ┆ 7.616071 ┆ … ┆ AAPL ┆ 1.090407   ┆ -0.102519 ┆ 7.657381 │\n",
              "│ 2010-01-06 ┆ 7.656429 ┆ 7.686786 ┆ 7.526786 ┆ … ┆ AAPL ┆ 2.089751   ┆ -1.590632 ┆ 7.582738 │\n",
              "│ 2010-01-07 ┆ 7.5625   ┆ 7.571429 ┆ 7.466071 ┆ … ┆ AAPL ┆ 1.393159   ┆ -0.552545 ┆ 7.519405 │\n",
              "│ 2010-01-08 ┆ 7.510714 ┆ 7.571429 ┆ 7.466429 ┆ … ┆ AAPL ┆ 1.397997   ┆ 0.798858  ┆ 7.536191 │\n",
              "└────────────┴──────────┴──────────┴──────────┴───┴──────┴────────────┴───────────┴──────────┘"
            ],
            "text/html": [
              "<div><style>\n",
              ".dataframe > thead > tr,\n",
              ".dataframe > tbody > tr {\n",
              "  text-align: right;\n",
              "  white-space: pre-wrap;\n",
              "}\n",
              "</style>\n",
              "<small>shape: (5, 11)</small><table border=\"1\" class=\"dataframe\"><thead><tr><th>Date</th><th>Open</th><th>High</th><th>Low</th><th>Close</th><th>Adj Close</th><th>Volume</th><th>Name</th><th>volatility</th><th>pcp</th><th>vwap</th></tr><tr><td>date</td><td>f64</td><td>f64</td><td>f64</td><td>f64</td><td>f64</td><td>i64</td><td>str</td><td>f64</td><td>f64</td><td>f64</td></tr></thead><tbody><tr><td>2010-01-04</td><td>7.6225</td><td>7.660714</td><td>7.585</td><td>7.643214</td><td>6.562591</td><td>493729600</td><td>&quot;AAPL&quot;</td><td>0.993298</td><td>0.271752</td><td>7.629643</td></tr><tr><td>2010-01-05</td><td>7.664286</td><td>7.699643</td><td>7.616071</td><td>7.656429</td><td>6.573935</td><td>601904800</td><td>&quot;AAPL&quot;</td><td>1.090407</td><td>-0.102519</td><td>7.657381</td></tr><tr><td>2010-01-06</td><td>7.656429</td><td>7.686786</td><td>7.526786</td><td>7.534643</td><td>6.469369</td><td>552160000</td><td>&quot;AAPL&quot;</td><td>2.089751</td><td>-1.590632</td><td>7.582738</td></tr><tr><td>2010-01-07</td><td>7.5625</td><td>7.571429</td><td>7.466071</td><td>7.520714</td><td>6.457407</td><td>477131200</td><td>&quot;AAPL&quot;</td><td>1.393159</td><td>-0.552545</td><td>7.519405</td></tr><tr><td>2010-01-08</td><td>7.510714</td><td>7.571429</td><td>7.466429</td><td>7.570714</td><td>6.500339</td><td>447610800</td><td>&quot;AAPL&quot;</td><td>1.397997</td><td>0.798858</td><td>7.536191</td></tr></tbody></table></div>"
            ]
          },
          "metadata": {},
          "execution_count": 59
        }
      ]
    },
    {
      "cell_type": "code",
      "source": [
        "# Check for NaN values and remove rows with NaN before exporting\n",
        "\n",
        "nan_count = df_w_vwap.null_count().sum()\n",
        "print(f\"Number of rows with NaN values: {nan_count}\")\n",
        "\n",
        "# Remove rows with NaN values\n",
        "df_cleaned = df_w_vwap.drop_nulls()\n",
        "\n",
        "# Display the cleaned DataFrame\n",
        "\n",
        "print(f\"DataFrame after removing rows with NaN values has {len(df_w_vwap)} rows.\")"
      ],
      "metadata": {
        "colab": {
          "base_uri": "https://localhost:8080/",
          "height": 0
        },
        "id": "qVGepx6_udRk",
        "outputId": "c44ecb4a-e02e-49d3-db96-0f4c89f52a67"
      },
      "execution_count": 62,
      "outputs": [
        {
          "output_type": "stream",
          "name": "stdout",
          "text": [
            "Number of rows with NaN values: shape: (1, 11)\n",
            "┌──────┬──────┬──────┬─────┬───┬──────┬────────────┬─────┬──────┐\n",
            "│ Date ┆ Open ┆ High ┆ Low ┆ … ┆ Name ┆ volatility ┆ pcp ┆ vwap │\n",
            "│ ---  ┆ ---  ┆ ---  ┆ --- ┆   ┆ ---  ┆ ---        ┆ --- ┆ ---  │\n",
            "│ u32  ┆ u32  ┆ u32  ┆ u32 ┆   ┆ u32  ┆ u32        ┆ u32 ┆ u32  │\n",
            "╞══════╪══════╪══════╪═════╪═══╪══════╪════════════╪═════╪══════╡\n",
            "│ 0    ┆ 0    ┆ 0    ┆ 0   ┆ … ┆ 0    ┆ 0          ┆ 0   ┆ 0    │\n",
            "└──────┴──────┴──────┴─────┴───┴──────┴────────────┴─────┴──────┘\n",
            "DataFrame after removing rows with NaN values has 271680 rows.\n"
          ]
        }
      ]
    },
    {
      "cell_type": "markdown",
      "source": [
        "## Adding a Sharpe Ratio Dataset\n",
        "\n",
        "I created a separate dataset for Sharpe calculations because this separation  makes computations more efficient and less likely to compromise data integrity.Sharpe calculations can be resource-intensive.\n",
        "\n",
        "By keeping the raw price and VWAP data separate from risk calculations, I prevent accidental modifications to our base dataset and make debugging much simpler. I can then run risk calculations independently without having to recalculate VWAP metrics each time there's a change in risk parameters.\n",
        "\n",
        "Most importantly, this modular approach lets me experiment with different risk metrics without touching core price data.\n"
      ],
      "metadata": {
        "id": "RV4KNN_fvnft"
      }
    },
    {
      "cell_type": "code",
      "source": [
        "def calculate_sharpe_ratio(df: pl.DataFrame, risk_free_rate: float = 0.02) -> pl.DataFrame:\n",
        "    # Pivot the data like the pandas version\n",
        "    pivot_df = df.pivot(\n",
        "        values='Close',\n",
        "        index='Date',\n",
        "        on='Name'\n",
        "    )\n",
        "\n",
        "    # Calculate daily returns - using pct_change over columns\n",
        "    daily_returns = pivot_df.select([\n",
        "        pl.col('*').exclude('Date').pct_change()\n",
        "    ])\n",
        "\n",
        "    # Calculate mean and std dev of returns\n",
        "    mean_returns = daily_returns.mean()\n",
        "    std_returns = daily_returns.std()\n",
        "\n",
        "    # Calculate Sharpe ratio\n",
        "    sharpe_ratios = (mean_returns - risk_free_rate) / std_returns\n",
        "\n",
        "    # Convert to DataFrame with Name and Sharpe columns\n",
        "    result = pl.DataFrame({\n",
        "        'Name': pivot_df.columns[1:],  # Exclude Date column\n",
        "        'Sharpe': sharpe_ratios.row(0)\n",
        "    })\n",
        "\n",
        "    return result\n",
        "\n",
        "sharpe_ratios = calculate_sharpe_ratio(df)\n",
        "sharpe_ratios"
      ],
      "metadata": {
        "colab": {
          "base_uri": "https://localhost:8080/",
          "height": 443
        },
        "id": "iQ3awH3EvnTN",
        "outputId": "b03666e7-63cb-4a5b-984e-28ae4e59a274"
      },
      "execution_count": 68,
      "outputs": [
        {
          "output_type": "execute_result",
          "data": {
            "text/plain": [
              "shape: (102, 2)\n",
              "┌──────┬───────────┐\n",
              "│ Name ┆ Sharpe    │\n",
              "│ ---  ┆ ---       │\n",
              "│ str  ┆ f64       │\n",
              "╞══════╪═══════════╡\n",
              "│ AAPL ┆ -1.060843 │\n",
              "│ ADBE ┆ -0.994898 │\n",
              "│ ADI  ┆ -1.067723 │\n",
              "│ ADP  ┆ -1.408564 │\n",
              "│ ADSK ┆ -0.841525 │\n",
              "│ …    ┆ …         │\n",
              "│ WBA  ┆ -1.114499 │\n",
              "│ WDAY ┆ -0.777108 │\n",
              "│ XEL  ┆ -1.635274 │\n",
              "│ XLNX ┆ -0.966014 │\n",
              "│ ZM   ┆ -0.370927 │\n",
              "└──────┴───────────┘"
            ],
            "text/html": [
              "<div><style>\n",
              ".dataframe > thead > tr,\n",
              ".dataframe > tbody > tr {\n",
              "  text-align: right;\n",
              "  white-space: pre-wrap;\n",
              "}\n",
              "</style>\n",
              "<small>shape: (102, 2)</small><table border=\"1\" class=\"dataframe\"><thead><tr><th>Name</th><th>Sharpe</th></tr><tr><td>str</td><td>f64</td></tr></thead><tbody><tr><td>&quot;AAPL&quot;</td><td>-1.060843</td></tr><tr><td>&quot;ADBE&quot;</td><td>-0.994898</td></tr><tr><td>&quot;ADI&quot;</td><td>-1.067723</td></tr><tr><td>&quot;ADP&quot;</td><td>-1.408564</td></tr><tr><td>&quot;ADSK&quot;</td><td>-0.841525</td></tr><tr><td>&hellip;</td><td>&hellip;</td></tr><tr><td>&quot;WBA&quot;</td><td>-1.114499</td></tr><tr><td>&quot;WDAY&quot;</td><td>-0.777108</td></tr><tr><td>&quot;XEL&quot;</td><td>-1.635274</td></tr><tr><td>&quot;XLNX&quot;</td><td>-0.966014</td></tr><tr><td>&quot;ZM&quot;</td><td>-0.370927</td></tr></tbody></table></div>"
            ]
          },
          "metadata": {},
          "execution_count": 68
        }
      ]
    },
    {
      "cell_type": "markdown",
      "source": [
        "# Export Feature Engineered Dataset\n",
        "## - Export a CSV of all original columns with `volatility`, `pcp`, and `vwap` engineered features\n",
        "## - Export Sharpe Ratios as a csv"
      ],
      "metadata": {
        "id": "cOcLm3G6w9gc"
      }
    },
    {
      "cell_type": "code",
      "source": [
        "# G Drive path from above, leave commented\n",
        "# GDRIVE_MOUNT_POINT = \"/content/gdrive/MyDrive/Portfolio_Berkeley/nasdaq_100.zip\"\n",
        "g_drive_path = \"/content/gdrive/MyDrive/Portfolio_Berkeley\"\n"
      ],
      "metadata": {
        "id": "U788ZCVYxALO"
      },
      "execution_count": 70,
      "outputs": []
    },
    {
      "cell_type": "code",
      "source": [
        "# Export df_w_vwap to a CSV file with additional options\n",
        "df_w_vwap.write_csv(f'{g_drive_path}/df_w_vwap.csv', include_header=True, float_precision=4)"
      ],
      "metadata": {
        "id": "t_0q0eeXxWqu"
      },
      "execution_count": 72,
      "outputs": []
    },
    {
      "cell_type": "code",
      "source": [
        "# Export sharpe ratios to a CSV file with additional options\n",
        "sharpe_ratios.write_csv(f'{g_drive_path}/sharpe_ratios.csv', include_header=True, float_precision=4)"
      ],
      "metadata": {
        "id": "_sy-xjeUxs96"
      },
      "execution_count": 73,
      "outputs": []
    },
    {
      "cell_type": "markdown",
      "source": [
        "# Conclusion\n",
        "\n",
        "If you've made it this far, thank you for following the walkthrough. If you ran this notebook along with me,  then we've successfully processed our stock market data by calculating VWAP to better understand trading volumes and price movements. Our analysis included cleaning the data by removing null values and handling zero-volume trading days. We then computed Sharpe ratios to evaluate risk-adjusted returns which gives us a clear picture of which stocks provide the best returns per unit of risk taken. All of this preprocessing and risk analysis sets us up perfectly for the next phase: running modularity optimization algorithms. These algorithms will help us identify natural clusters or communities of stocks that behave similarly which is crucial for the \"drill down\" analysis capability that we eventually want.\n",
        "\n",
        "The modular approach taken here separating the data processing steps makes it easier to experiment with different optimization parameters in the next notebook. The cleaned and processed dataset with VWAP and Sharpe ratios gives the data foundational layer for the network analysis and community detection that follows.\n"
      ],
      "metadata": {
        "id": "ph-qReUexzU1"
      }
    },
    {
      "cell_type": "code",
      "source": [],
      "metadata": {
        "id": "F-EID0D4yNK9"
      },
      "execution_count": null,
      "outputs": []
    }
  ]
}